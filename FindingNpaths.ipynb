{
 "cells": [
  {
   "cell_type": "code",
   "execution_count": 5,
   "metadata": {},
   "outputs": [
    {
     "name": "stdout",
     "output_type": "stream",
     "text": [
      "Source|Destination node set:  A | N\n",
      "['A|F', 'F|H', 'H|K', 'K|N'] has cost 30.0\n",
      "['A|B', 'B|E', 'E|F', 'F|H', 'H|K', 'K|N'] has cost 38.0\n",
      "['A|F', 'F|H', 'H|K', 'K|J', 'J|M', 'M|N'] has cost 41.0\n"
     ]
    }
   ],
   "source": [
    "import KSP \n",
    "graph_file = 'inputs/data.txt' # the graph of the traffic network\n",
    "ODpairs = [['A','N']] # the list of origins and destinations\n",
    "K = 3 # the number of paths to find\n",
    "V, E = KSP.generateGraph(graph_file)\n",
    "for od in ODpairs:\n",
    "\tprint('Source|Destination node set: ', od[0], '|', od[1])\n",
    "\troutes = KSP.getKRoutes(V, E, od[0], od[1], K)\n",
    "\tfor i in routes:\n",
    "\t\troute = i[0]\n",
    "\t\tcost = i[1]\n",
    "\t\tprint(route, 'has cost', cost)"
   ]
  },
  {
   "cell_type": "code",
   "execution_count": null,
   "metadata": {},
   "outputs": [],
   "source": [
    "import KSP \n",
    "graph_file = 'inputs/roadnetwork.txt'\n",
    "ODpairs = [['A','N']] \n",
    "K = 3 \n",
    "V, E = KSP.generateGraph(graph_file)\n",
    "for od in ODpairs:\n",
    "\tprint('Source|Destination node set: ', od[0], '|', od[1])\n",
    "\troutes = KSP.getKRoutes(V, E, od[0], od[1], K)\n",
    "\tfor i in routes:\n",
    "\t\troute = i[0]\n",
    "\t\tcost = i[1]\n",
    "\t\tprint(route, 'has cost', cost)"
   ]
  }
 ],
 "metadata": {
  "kernelspec": {
   "display_name": "Python 3",
   "language": "python",
   "name": "python3"
  },
  "language_info": {
   "codemirror_mode": {
    "name": "ipython",
    "version": 3
   },
   "file_extension": ".py",
   "mimetype": "text/x-python",
   "name": "python",
   "nbconvert_exporter": "python",
   "pygments_lexer": "ipython3",
   "version": "3.8.5"
  }
 },
 "nbformat": 4,
 "nbformat_minor": 4
}
