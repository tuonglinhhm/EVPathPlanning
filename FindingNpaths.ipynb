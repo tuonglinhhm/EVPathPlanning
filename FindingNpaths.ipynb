{
 "cells": [
  {
   "cell_type": "code",
   "execution_count": 12,
   "metadata": {},
   "outputs": [
    {
     "name": "stdout",
     "output_type": "stream",
     "text": [
      "Source|Destination node set:  A | N\n",
      "['A|F', 'F|H', 'H|K', 'K|N'] has cost 30.0\n",
      "0.007478876039385796 s\n",
      "['A|B', 'B|E', 'E|F', 'F|H', 'H|K', 'K|N'] has cost 38.0\n",
      "0.007526644039899111 s\n",
      "['A|F', 'F|H', 'H|K', 'K|J', 'J|M', 'M|N'] has cost 41.0\n",
      "0.00757161108776927 s\n",
      "['A|B', 'B|E', 'E|F', 'F|H', 'H|K', 'K|J', 'J|M', 'M|N'] has cost 49.0\n",
      "0.007616701070219278 s\n",
      "['A|F', 'F|H', 'H|G', 'G|I', 'I|J', 'J|M', 'M|N'] has cost 50.0\n",
      "0.007661225274205208 s\n",
      "['A|B', 'B|C', 'C|D', 'D|E', 'E|F', 'F|H', 'H|K', 'K|N'] has cost 50.0\n",
      "0.007705312222242355 s\n",
      "['A|B', 'B|C', 'C|D', 'D|G', 'G|I', 'I|J', 'J|M', 'M|N'] has cost 50.0\n",
      "0.00774992024526 s\n",
      "['A|F', 'F|H', 'H|G', 'G|I', 'I|L', 'L|M', 'M|N'] has cost 51.0\n",
      "0.007794610224664211 s\n",
      "['A|B', 'B|C', 'C|D', 'D|G', 'G|I', 'I|L', 'L|M', 'M|N'] has cost 51.0\n",
      "0.007838536985218525 s\n",
      "['A|B', 'B|E', 'E|F', 'F|H', 'H|G', 'G|I', 'I|J', 'J|M', 'M|N'] has cost 58.0\n",
      "0.007882643956691027 s\n",
      "['A|B', 'B|E', 'E|F', 'F|H', 'H|G', 'G|I', 'I|L', 'L|M', 'M|N'] has cost 59.0\n",
      "0.007926455233246088 s\n",
      "['A|B', 'B|C', 'C|D', 'D|E', 'E|F', 'F|H', 'H|K', 'K|J', 'J|M', 'M|N'] has cost 61.0\n",
      "0.007970467209815979 s\n",
      "['A|B', 'B|C', 'C|D', 'D|E', 'E|F', 'F|H', 'H|G', 'G|I', 'I|J', 'J|M', 'M|N'] has cost 70.0\n",
      "0.00801412109285593 s\n",
      "['A|B', 'B|C', 'C|D', 'D|E', 'E|F', 'F|H', 'H|G', 'G|I', 'I|L', 'L|M', 'M|N'] has cost 71.0\n",
      "0.008057995233684778 s\n"
     ]
    }
   ],
   "source": [
    "import KSP \n",
    "from timeit import default_timer as timer\n",
    "\n",
    "graph_file = 'inputs/data.txt' # the graph of the traffic network\n",
    "ODpairs = [['A','N']] # the list of origins and destinations\n",
    "K = 20 # the number of paths to find\n",
    "start = timer()\n",
    "V, E = KSP.generateGraph(graph_file)\n",
    "for od in ODpairs:\n",
    "\tprint('Source|Destination node set: ', od[0], '|', od[1])\n",
    "\troutes = KSP.getKRoutes(V, E, od[0], od[1], K)\n",
    "\tfor i in routes:\n",
    "\t\troute = i[0]\n",
    "\t\tcost = i[1]\n",
    "\t\tprint(route, 'has cost', cost)\n",
    "\t\tend = timer()\n",
    "\t\tprint(end - start, 's') "
   ]
  },
  {
   "cell_type": "code",
   "execution_count": null,
   "metadata": {},
   "outputs": [],
   "source": [
    "import KSP \n",
    "from timeit import default_timer as timer\n",
    "graph_file = 'inputs/roadnetwork.txt'\n",
    "ODpairs = [['-32426#0','-32970']] \n",
    "K = 3 \n",
    "start = timer()\n",
    "V, E = KSP.generateGraph(graph_file)\n",
    "for od in ODpairs:\n",
    "\tprint('Source|Destination node set: ', od[0], '|', od[1])\n",
    "\troutes = KSP.getKRoutes(V, E, od[0], od[1], K)\n",
    "\tfor i in routes:\n",
    "\t\troute = i[0]\n",
    "\t\tcost = i[1]\n",
    "\t\tprint(route, 'has cost', cost)\n",
    "\t\tend = timer()\n",
    "\t\tprint(end - start, 's') "
   ]
  }
 ],
 "metadata": {
  "kernelspec": {
   "display_name": "Python 3",
   "language": "python",
   "name": "python3"
  },
  "language_info": {
   "codemirror_mode": {
    "name": "ipython",
    "version": 3
   },
   "file_extension": ".py",
   "mimetype": "text/x-python",
   "name": "python",
   "nbconvert_exporter": "python",
   "pygments_lexer": "ipython3",
   "version": "3.8.5"
  }
 },
 "nbformat": 4,
 "nbformat_minor": 4
}
